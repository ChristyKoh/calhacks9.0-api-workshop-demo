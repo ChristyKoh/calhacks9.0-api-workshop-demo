{
 "cells": [
  {
   "cell_type": "markdown",
   "metadata": {},
   "source": [
    "# Codebase API Workshop Demo: Twitter\n",
    "\n",
    "by Christy Koh\n",
    "\n",
    "Contact: christykoh@berkeley.edu"
   ]
  },
  {
   "cell_type": "code",
   "execution_count": 20,
   "metadata": {},
   "outputs": [],
   "source": [
    "import requests as req\n",
    "import json\n",
    "from globals import TWITTER_BEARER_TOKEN # my token for authentication\n",
    "\n",
    "headers = {\n",
    "    'Authorization': 'Bearer ' + TWITTER_BEARER_TOKEN,\n",
    "    'Content-Type': 'application/json'\n",
    "}"
   ]
  },
  {
   "cell_type": "markdown",
   "metadata": {},
   "source": [
    "### Twitter Search API\n",
    "https://developer.twitter.com/en/docs/twitter-api/tweets/search/api-reference\n",
    "\n",
    "We can search for posts by a Twitter user!\n",
    "\n",
    "![reference](assets/twitter_search_api_ref.png)"
   ]
  },
  {
   "cell_type": "code",
   "execution_count": 21,
   "metadata": {},
   "outputs": [],
   "source": [
    "base_url = \"https://api.twitter.com\"\n",
    "endpoint = \"/2/tweets/search/recent\"\n",
    "username = \"elonmusk\"\n",
    "params = f\"query=from:{username}&tweet.fields=created_at&expansions=author_id&user.fields=created_at\"\n",
    "res = req.get(f\"{base_url}{endpoint}?{params}\", headers=headers)"
   ]
  },
  {
   "cell_type": "code",
   "execution_count": 22,
   "metadata": {},
   "outputs": [
    {
     "data": {
      "text/plain": [
       "{'data': [{'text': '@officejjsmart @MelnykAndrij We’re just following his recommendation 🤷\\u200d♂️',\n",
       "   'created_at': '2022-10-14T07:14:58.000Z',\n",
       "   'author_id': '44196397',\n",
       "   'edit_history_tweet_ids': ['1580819437824839681'],\n",
       "   'id': '1580819437824839681'},\n",
       "  {'text': '@narutium @SawyerMerritt Falcon can probably get Starlink past breakeven, but Starship is needed to fund Mars',\n",
       "   'created_at': '2022-10-14T06:48:12.000Z',\n",
       "   'author_id': '44196397',\n",
       "   'edit_history_tweet_ids': ['1580812701869101057'],\n",
       "   'id': '1580812701869101057'},\n",
       "  {'text': '@TeslaOwnersEBay @SawyerMerritt @SpaceX Yes',\n",
       "   'created_at': '2022-10-14T06:45:36.000Z',\n",
       "   'author_id': '44196397',\n",
       "   'edit_history_tweet_ids': ['1580812045796093952'],\n",
       "   'id': '1580812045796093952'},\n",
       "  {'text': '@spideycyp_155 @SawyerMerritt @SpaceX In addition to terminals, we have to create, launch, maintain &amp; replenish satellites &amp; ground stations &amp; pay telcos for access to Internet via gateways. \\n\\nWe’ve also had to defend against cyberattacks &amp; jamming, which are getting harder.\\n\\nBurn is approaching ~$20M/month.',\n",
       "   'created_at': '2022-10-14T06:44:12.000Z',\n",
       "   'author_id': '44196397',\n",
       "   'edit_history_tweet_ids': ['1580811694225653760'],\n",
       "   'id': '1580811694225653760'},\n",
       "  {'text': '@SawyerMerritt Also, Starlink is still losing money! It is insanely difficult for a LEO communications constellation to avoid bankruptcy – that was the fate of every company that tried this before.\\n\\nWhen asked what the goal of Starlink was at a space conference, I said “not go bankrupt”.',\n",
       "   'created_at': '2022-10-14T06:35:01.000Z',\n",
       "   'author_id': '44196397',\n",
       "   'edit_history_tweet_ids': ['1580809382958227458'],\n",
       "   'id': '1580809382958227458'},\n",
       "  {'text': '@BogusThought @SawyerMerritt @rfdctr Maybe the 🐈 got their 👅',\n",
       "   'created_at': '2022-10-14T06:29:08.000Z',\n",
       "   'author_id': '44196397',\n",
       "   'edit_history_tweet_ids': ['1580807902570246145'],\n",
       "   'id': '1580807902570246145'},\n",
       "  {'text': '@spideycyp_155 @SawyerMerritt @rfdctr @SpaceX Very few in Iran so far',\n",
       "   'created_at': '2022-10-14T06:28:03.000Z',\n",
       "   'author_id': '44196397',\n",
       "   'edit_history_tweet_ids': ['1580807628350836738'],\n",
       "   'id': '1580807628350836738'},\n",
       "  {'text': '@SawyerMerritt Strange that nothing was leaked about our competitors in space launch &amp; communications, Lockheed &amp; Boeing, who get over $60B …\\n\\nWouldn’t be surprised to find this particular individual working there when he retires from DoD. Corruption at its finest.',\n",
       "   'created_at': '2022-10-14T06:21:46.000Z',\n",
       "   'author_id': '44196397',\n",
       "   'edit_history_tweet_ids': ['1580806048050343936'],\n",
       "   'id': '1580806048050343936'},\n",
       "  {'text': '@SawyerMerritt @rfdctr SpaceX is not asking to recoup past expenses, but also cannot fund the existing system indefinitely *and* send several thousand more terminals that have data usage up to 100X greater than typical households. This is unreasonable.',\n",
       "   'created_at': '2022-10-14T06:07:11.000Z',\n",
       "   'author_id': '44196397',\n",
       "   'edit_history_tweet_ids': ['1580802376973230080'],\n",
       "   'id': '1580802376973230080'},\n",
       "  {'text': '@MuskUniversity Vital to the future of consciousness',\n",
       "   'created_at': '2022-10-13T19:27:08.000Z',\n",
       "   'author_id': '44196397',\n",
       "   'edit_history_tweet_ids': ['1580641303721037824'],\n",
       "   'id': '1580641303721037824'}],\n",
       " 'includes': {'users': [{'created_at': '2009-06-02T20:12:29.000Z',\n",
       "    'username': 'elonmusk',\n",
       "    'id': '44196397',\n",
       "    'name': 'Elon Musk'}]},\n",
       " 'meta': {'newest_id': '1580819437824839681',\n",
       "  'oldest_id': '1580641303721037824',\n",
       "  'result_count': 10,\n",
       "  'next_token': 'b26v89c19zqg8o3fpzejg3bpnvfdc47xt9uz633ywejy5'}}"
      ]
     },
     "execution_count": 22,
     "metadata": {},
     "output_type": "execute_result"
    }
   ],
   "source": [
    "res_json = res.json()\n",
    "data = res_json['data']\n",
    "res_json"
   ]
  },
  {
   "cell_type": "code",
   "execution_count": 23,
   "metadata": {},
   "outputs": [
    {
     "name": "stdout",
     "output_type": "stream",
     "text": [
      "# posts retrieved:  10\n",
      "--------------------------------------------------\n",
      "@officejjsmart @MelnykAndrij We’re just following his recommendation 🤷‍♂️\n",
      "--------------------------------------------------\n",
      "@narutium @SawyerMerritt Falcon can probably get Starlink past breakeven, but Starship is needed to fund Mars\n",
      "--------------------------------------------------\n",
      "@TeslaOwnersEBay @SawyerMerritt @SpaceX Yes\n",
      "--------------------------------------------------\n",
      "@spideycyp_155 @SawyerMerritt @SpaceX In addition to terminals, we have to create, launch, maintain &amp; replenish satellites &amp; ground stations &amp; pay telcos for access to Internet via gateways. \n",
      "\n",
      "We’ve also had to defend against cyberattacks &amp; jamming, which are getting harder.\n",
      "\n",
      "Burn is approaching ~$20M/month.\n",
      "--------------------------------------------------\n",
      "@SawyerMerritt Also, Starlink is still losing money! It is insanely difficult for a LEO communications constellation to avoid bankruptcy – that was the fate of every company that tried this before.\n",
      "\n",
      "When asked what the goal of Starlink was at a space conference, I said “not go bankrupt”.\n",
      "--------------------------------------------------\n",
      "@BogusThought @SawyerMerritt @rfdctr Maybe the 🐈 got their 👅\n",
      "--------------------------------------------------\n",
      "@spideycyp_155 @SawyerMerritt @rfdctr @SpaceX Very few in Iran so far\n",
      "--------------------------------------------------\n",
      "@SawyerMerritt Strange that nothing was leaked about our competitors in space launch &amp; communications, Lockheed &amp; Boeing, who get over $60B …\n",
      "\n",
      "Wouldn’t be surprised to find this particular individual working there when he retires from DoD. Corruption at its finest.\n",
      "--------------------------------------------------\n",
      "@SawyerMerritt @rfdctr SpaceX is not asking to recoup past expenses, but also cannot fund the existing system indefinitely *and* send several thousand more terminals that have data usage up to 100X greater than typical households. This is unreasonable.\n",
      "--------------------------------------------------\n",
      "@MuskUniversity Vital to the future of consciousness\n"
     ]
    }
   ],
   "source": [
    "print(\"# posts retrieved: \", len(data))\n",
    "for post in data:\n",
    "    print(\"-\" * 50)\n",
    "    print(post['text'])"
   ]
  },
  {
   "cell_type": "markdown",
   "metadata": {},
   "source": [
    "### Twitter Manage Tweets API\n",
    "\n",
    "https://developer.twitter.com/en/docs/twitter-api/tweets/manage-tweets/api-reference\n",
    "\n",
    "![](assets/twitter_manage_tweets_api_ref.png)"
   ]
  },
  {
   "cell_type": "code",
   "execution_count": 24,
   "metadata": {},
   "outputs": [],
   "source": [
    "# Post a tweet\n",
    "# https://developer.twitter.com/en/docs/twitter-api/tweets/manage-tweets/api-reference/post-tweets\n",
    "\n",
    "endpoint = \"/2/tweets/\"\n",
    "url = f\"{base_url}{endpoint}\"\n",
    "res = req.post(url, headers=headers, data=json.dumps({\n",
    "    'text': \"Tweeting from CalHacks 9.0!\"\n",
    "}))"
   ]
  },
  {
   "cell_type": "code",
   "execution_count": 25,
   "metadata": {},
   "outputs": [
    {
     "data": {
      "text/plain": [
       "{'data': {'id': '1580868883845505024', 'text': 'Tweeting from CalHacks 9.0!'}}"
      ]
     },
     "execution_count": 25,
     "metadata": {},
     "output_type": "execute_result"
    }
   ],
   "source": [
    "res.json()"
   ]
  },
  {
   "cell_type": "code",
   "execution_count": 28,
   "metadata": {},
   "outputs": [],
   "source": [
    "# Delete a tweet\n",
    "# https://developer.twitter.com/en/docs/twitter-api/tweets/manage-tweets/api-reference/delete-tweets-id\n",
    "\n",
    "tweet_id = \"1580868883845505024\"\n",
    "endpoint = \"/2/tweets/\" + tweet_id\n",
    "url = f\"{base_url}{endpoint}\"\n",
    "res = req.delete(url, headers=headers)"
   ]
  },
  {
   "cell_type": "code",
   "execution_count": 29,
   "metadata": {},
   "outputs": [
    {
     "data": {
      "text/plain": [
       "{'data': {'deleted': True}}"
      ]
     },
     "execution_count": 29,
     "metadata": {},
     "output_type": "execute_result"
    }
   ],
   "source": [
    "res.json()"
   ]
  }
 ],
 "metadata": {
  "interpreter": {
   "hash": "40d3a090f54c6569ab1632332b64b2c03c39dcf918b08424e98f38b5ae0af88f"
  },
  "kernelspec": {
   "display_name": "Python 3",
   "language": "python",
   "name": "python3"
  },
  "language_info": {
   "codemirror_mode": {
    "name": "ipython",
    "version": 3
   },
   "file_extension": ".py",
   "mimetype": "text/x-python",
   "name": "python",
   "nbconvert_exporter": "python",
   "pygments_lexer": "ipython3",
   "version": "3.8.8"
  }
 },
 "nbformat": 4,
 "nbformat_minor": 2
}
