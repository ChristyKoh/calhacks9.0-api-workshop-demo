{
 "cells": [
  {
   "cell_type": "markdown",
   "metadata": {},
   "source": [
    "# Codebase API Workshop Demo: NASA\n",
    "\n",
    "by Christy Koh\n",
    "\n",
    "Contact: christykoh@berkeley.edu\n",
    "\n",
    "In this quick demo, we'll peek at the NASA Mars Rover photos for Curiosity. Here is the [NASA API reference](https://api.nasa.gov/)."
   ]
  },
  {
   "cell_type": "code",
   "execution_count": 2,
   "metadata": {},
   "outputs": [],
   "source": [
    "import requests as req\n",
    "from IPython.display import Image"
   ]
  },
  {
   "cell_type": "markdown",
   "metadata": {},
   "source": [
    "### Get the mission manifest\n",
    "\n",
    "We want to know more about when Curiosity touched down and when it left, so that we can get a sense of what pictures we can look at!"
   ]
  },
  {
   "cell_type": "code",
   "execution_count": 3,
   "metadata": {},
   "outputs": [],
   "source": [
    "base_url = \"https://api.nasa.gov/mars-photos/api/v1\"\n",
    "endpoint = \"/manifests/curiosity\"\n",
    "params = \"api_key=DEMO_KEY\"\n",
    "\n",
    "res = req.get(f\"{base_url}{endpoint}?{params}\").json()"
   ]
  },
  {
   "cell_type": "code",
   "execution_count": 5,
   "metadata": {},
   "outputs": [
    {
     "data": {
      "text/plain": [
       "{'name': 'Curiosity',\n",
       " 'landing_date': '2012-08-06',\n",
       " 'launch_date': '2011-11-26',\n",
       " 'status': 'active',\n",
       " 'max_sol': 3621,\n",
       " 'max_date': '2022-10-13',\n",
       " 'total_photos': 601496,\n",
       " 'photos': []}"
      ]
     },
     "execution_count": 5,
     "metadata": {},
     "output_type": "execute_result"
    }
   ],
   "source": [
    "manifest = res['photo_manifest']\n",
    "manifest['photos'] = [] # so our output isn't clogged with photos\n",
    "manifest"
   ]
  },
  {
   "cell_type": "markdown",
   "metadata": {},
   "source": [
    "### Get photos\n",
    "\n",
    "Cool, Curiosity is still roving till this day! Let's try and find a selfie :) I found an [article](https://www.space.com/curiosity-mars-rover-10-years-of-science#:~:text=on%20Sept.%207%2C-,2012,-.%C2%A0) with a selfie taken on Sep 7, 2012."
   ]
  },
  {
   "cell_type": "code",
   "execution_count": 78,
   "metadata": {},
   "outputs": [
    {
     "name": "stdout",
     "output_type": "stream",
     "text": [
      "24\n"
     ]
    }
   ],
   "source": [
    "base_url = \"https://api.nasa.gov/mars-photos\"\n",
    "endpoint = \"/api/v1/rovers/curiosity/photos\"\n",
    "params = \"earth_date=2012-09-07&api_key=DEMO_KEY\"\n",
    "\n",
    "res = req.get(f\"{base_url}{endpoint}?{params}\").json()\n",
    "sep7_photos = res['photos']\n",
    "print(len(photos))"
   ]
  },
  {
   "cell_type": "code",
   "execution_count": 82,
   "metadata": {},
   "outputs": [
    {
     "data": {
      "text/html": [
       "<img src=\"http://mars.jpl.nasa.gov/msl-raw-images/msss/00032/mhli/0032MH0000400000100004E02_DXXX.jpg\" width=\"500\"/>"
      ],
      "text/plain": [
       "<IPython.core.display.Image object>"
      ]
     },
     "metadata": {},
     "output_type": "display_data"
    },
    {
     "data": {
      "text/html": [
       "<img src=\"http://mars.jpl.nasa.gov/msl-raw-images/msss/00032/mhli/0032MH0000400000100004I01_DXXX.jpg\" width=\"500\"/>"
      ],
      "text/plain": [
       "<IPython.core.display.Image object>"
      ]
     },
     "metadata": {},
     "output_type": "display_data"
    },
    {
     "data": {
      "text/html": [
       "<img src=\"http://mars.jpl.nasa.gov/msl-raw-images/msss/00032/mrdi/0032MD0000220000101513I01_DXXX.jpg\" width=\"500\"/>"
      ],
      "text/plain": [
       "<IPython.core.display.Image object>"
      ]
     },
     "metadata": {},
     "output_type": "display_data"
    },
    {
     "data": {
      "text/html": [
       "<img src=\"http://mars.jpl.nasa.gov/msl-raw-images/msss/00032/mrdi/0032MD0000220000101513E01_DXXX.jpg\" width=\"500\"/>"
      ],
      "text/plain": [
       "<IPython.core.display.Image object>"
      ]
     },
     "metadata": {},
     "output_type": "display_data"
    },
    {
     "data": {
      "text/html": [
       "<img src=\"http://mars.jpl.nasa.gov/msl-raw-images/proj/msl/redops/ods/surface/sol/00032/opgs/edr/ncam/NLA_400335692EDR_F0040000NCAM00107M_.JPG\" width=\"500\"/>"
      ],
      "text/plain": [
       "<IPython.core.display.Image object>"
      ]
     },
     "metadata": {},
     "output_type": "display_data"
    }
   ],
   "source": [
    "for i in range(170, 175):\n",
    "    src = sep7_photos[i]['img_src']\n",
    "    display(Image(url=src, width=500))"
   ]
  },
  {
   "cell_type": "markdown",
   "metadata": {},
   "source": [
    "We can also query based on Mars sols. Let's see what the mars rover saw today!"
   ]
  },
  {
   "cell_type": "code",
   "execution_count": 69,
   "metadata": {},
   "outputs": [],
   "source": [
    "max_sol = manifest['max_sol']\n",
    "\n",
    "base_url = \"https://api.nasa.gov/mars-photos\"\n",
    "endpoint = \"/api/v1/rovers/curiosity/photos\"\n",
    "params = f\"sol={max_sol}&api_key=DEMO_KEY\"\n",
    "\n",
    "res = req.get(f\"{base_url}{endpoint}?{params}\").json()"
   ]
  },
  {
   "cell_type": "code",
   "execution_count": 70,
   "metadata": {},
   "outputs": [
    {
     "data": {
      "text/plain": [
       "24"
      ]
     },
     "execution_count": 70,
     "metadata": {},
     "output_type": "execute_result"
    }
   ],
   "source": [
    "photos = res['photos']\n",
    "len(photos)"
   ]
  },
  {
   "cell_type": "code",
   "execution_count": 75,
   "metadata": {},
   "outputs": [
    {
     "data": {
      "text/html": [
       "<img src=\"https://mars.nasa.gov/msl-raw-images/proj/msl/redops/ods/surface/sol/03621/opgs/edr/ncam/NRB_718950319EDR_S0971734NCAM00594M_.JPG\" width=\"200\"/>"
      ],
      "text/plain": [
       "<IPython.core.display.Image object>"
      ]
     },
     "metadata": {},
     "output_type": "display_data"
    },
    {
     "data": {
      "text/html": [
       "<img src=\"https://mars.nasa.gov/msl-raw-images/proj/msl/redops/ods/surface/sol/03621/opgs/edr/ncam/NRB_718950306EDR_S0971734NCAM00594M_.JPG\" width=\"200\"/>"
      ],
      "text/plain": [
       "<IPython.core.display.Image object>"
      ]
     },
     "metadata": {},
     "output_type": "display_data"
    },
    {
     "data": {
      "text/html": [
       "<img src=\"https://mars.nasa.gov/msl-raw-images/proj/msl/redops/ods/surface/sol/03621/opgs/edr/ncam/NRB_718950293EDR_S0971734NCAM00594M_.JPG\" width=\"200\"/>"
      ],
      "text/plain": [
       "<IPython.core.display.Image object>"
      ]
     },
     "metadata": {},
     "output_type": "display_data"
    },
    {
     "data": {
      "text/html": [
       "<img src=\"https://mars.nasa.gov/msl-raw-images/proj/msl/redops/ods/surface/sol/03621/opgs/edr/ncam/NRB_718950262EDR_S0971734NCAM00594M_.JPG\" width=\"200\"/>"
      ],
      "text/plain": [
       "<IPython.core.display.Image object>"
      ]
     },
     "metadata": {},
     "output_type": "display_data"
    },
    {
     "data": {
      "text/html": [
       "<img src=\"https://mars.nasa.gov/msl-raw-images/proj/msl/redops/ods/surface/sol/03621/opgs/edr/ncam/NRB_718950249EDR_S0971734NCAM00594M_.JPG\" width=\"200\"/>"
      ],
      "text/plain": [
       "<IPython.core.display.Image object>"
      ]
     },
     "metadata": {},
     "output_type": "display_data"
    },
    {
     "data": {
      "text/html": [
       "<img src=\"https://mars.nasa.gov/msl-raw-images/proj/msl/redops/ods/surface/sol/03621/opgs/edr/ncam/NRB_718950236EDR_S0971734NCAM00594M_.JPG\" width=\"200\"/>"
      ],
      "text/plain": [
       "<IPython.core.display.Image object>"
      ]
     },
     "metadata": {},
     "output_type": "display_data"
    },
    {
     "data": {
      "text/html": [
       "<img src=\"https://mars.nasa.gov/msl-raw-images/proj/msl/redops/ods/surface/sol/03621/opgs/edr/ncam/NRB_718950205EDR_S0971734NCAM00594M_.JPG\" width=\"200\"/>"
      ],
      "text/plain": [
       "<IPython.core.display.Image object>"
      ]
     },
     "metadata": {},
     "output_type": "display_data"
    },
    {
     "data": {
      "text/html": [
       "<img src=\"https://mars.nasa.gov/msl-raw-images/proj/msl/redops/ods/surface/sol/03621/opgs/edr/ncam/NRB_718950193EDR_S0971734NCAM00594M_.JPG\" width=\"200\"/>"
      ],
      "text/plain": [
       "<IPython.core.display.Image object>"
      ]
     },
     "metadata": {},
     "output_type": "display_data"
    },
    {
     "data": {
      "text/html": [
       "<img src=\"https://mars.nasa.gov/msl-raw-images/proj/msl/redops/ods/surface/sol/03621/opgs/edr/ncam/NRB_718950180EDR_S0971734NCAM00594M_.JPG\" width=\"200\"/>"
      ],
      "text/plain": [
       "<IPython.core.display.Image object>"
      ]
     },
     "metadata": {},
     "output_type": "display_data"
    },
    {
     "data": {
      "text/html": [
       "<img src=\"https://mars.nasa.gov/msl-raw-images/proj/msl/redops/ods/surface/sol/03621/opgs/edr/ncam/NRB_718950148EDR_S0971734NCAM00594M_.JPG\" width=\"200\"/>"
      ],
      "text/plain": [
       "<IPython.core.display.Image object>"
      ]
     },
     "metadata": {},
     "output_type": "display_data"
    },
    {
     "data": {
      "text/html": [
       "<img src=\"https://mars.nasa.gov/msl-raw-images/proj/msl/redops/ods/surface/sol/03621/opgs/edr/ncam/NRB_718950136EDR_S0971734NCAM00594M_.JPG\" width=\"200\"/>"
      ],
      "text/plain": [
       "<IPython.core.display.Image object>"
      ]
     },
     "metadata": {},
     "output_type": "display_data"
    },
    {
     "data": {
      "text/html": [
       "<img src=\"https://mars.nasa.gov/msl-raw-images/proj/msl/redops/ods/surface/sol/03621/opgs/edr/ncam/NRB_718950123EDR_S0971734NCAM00594M_.JPG\" width=\"200\"/>"
      ],
      "text/plain": [
       "<IPython.core.display.Image object>"
      ]
     },
     "metadata": {},
     "output_type": "display_data"
    },
    {
     "data": {
      "text/html": [
       "<img src=\"https://mars.nasa.gov/msl-raw-images/proj/msl/redops/ods/surface/sol/03621/opgs/edr/ncam/NRB_718950091EDR_S0971734NCAM00594M_.JPG\" width=\"200\"/>"
      ],
      "text/plain": [
       "<IPython.core.display.Image object>"
      ]
     },
     "metadata": {},
     "output_type": "display_data"
    },
    {
     "data": {
      "text/html": [
       "<img src=\"https://mars.nasa.gov/msl-raw-images/proj/msl/redops/ods/surface/sol/03621/opgs/edr/ncam/NRB_718950078EDR_S0971734NCAM00594M_.JPG\" width=\"200\"/>"
      ],
      "text/plain": [
       "<IPython.core.display.Image object>"
      ]
     },
     "metadata": {},
     "output_type": "display_data"
    },
    {
     "data": {
      "text/html": [
       "<img src=\"https://mars.nasa.gov/msl-raw-images/proj/msl/redops/ods/surface/sol/03621/opgs/edr/ncam/NRB_718950065EDR_S0971734NCAM00594M_.JPG\" width=\"200\"/>"
      ],
      "text/plain": [
       "<IPython.core.display.Image object>"
      ]
     },
     "metadata": {},
     "output_type": "display_data"
    },
    {
     "data": {
      "text/html": [
       "<img src=\"https://mars.nasa.gov/msl-raw-images/proj/msl/redops/ods/surface/sol/03621/opgs/edr/ncam/NRB_718950033EDR_S0971734NCAM00594M_.JPG\" width=\"200\"/>"
      ],
      "text/plain": [
       "<IPython.core.display.Image object>"
      ]
     },
     "metadata": {},
     "output_type": "display_data"
    },
    {
     "data": {
      "text/html": [
       "<img src=\"https://mars.nasa.gov/msl-raw-images/proj/msl/redops/ods/surface/sol/03621/opgs/edr/ncam/NRB_718950020EDR_S0971734NCAM00594M_.JPG\" width=\"200\"/>"
      ],
      "text/plain": [
       "<IPython.core.display.Image object>"
      ]
     },
     "metadata": {},
     "output_type": "display_data"
    },
    {
     "data": {
      "text/html": [
       "<img src=\"https://mars.nasa.gov/msl-raw-images/proj/msl/redops/ods/surface/sol/03621/opgs/edr/ncam/NRB_718950007EDR_S0971734NCAM00594M_.JPG\" width=\"200\"/>"
      ],
      "text/plain": [
       "<IPython.core.display.Image object>"
      ]
     },
     "metadata": {},
     "output_type": "display_data"
    },
    {
     "data": {
      "text/html": [
       "<img src=\"https://mars.nasa.gov/msl-raw-images/proj/msl/redops/ods/surface/sol/03621/opgs/edr/ncam/NRB_718949934EDR_S0971734NCAM00594M_.JPG\" width=\"200\"/>"
      ],
      "text/plain": [
       "<IPython.core.display.Image object>"
      ]
     },
     "metadata": {},
     "output_type": "display_data"
    },
    {
     "data": {
      "text/html": [
       "<img src=\"https://mars.nasa.gov/msl-raw-images/proj/msl/redops/ods/surface/sol/03621/opgs/edr/ncam/NRB_718949921EDR_S0971734NCAM00594M_.JPG\" width=\"200\"/>"
      ],
      "text/plain": [
       "<IPython.core.display.Image object>"
      ]
     },
     "metadata": {},
     "output_type": "display_data"
    },
    {
     "data": {
      "text/html": [
       "<img src=\"https://mars.nasa.gov/msl-raw-images/proj/msl/redops/ods/surface/sol/03621/opgs/edr/ncam/NRB_718949908EDR_S0971734NCAM00594M_.JPG\" width=\"200\"/>"
      ],
      "text/plain": [
       "<IPython.core.display.Image object>"
      ]
     },
     "metadata": {},
     "output_type": "display_data"
    },
    {
     "data": {
      "text/html": [
       "<img src=\"https://mars.nasa.gov/msl-raw-images/proj/msl/redops/ods/surface/sol/03621/opgs/edr/ncam/NRB_718949882EDR_S0971734NCAM00594M_.JPG\" width=\"200\"/>"
      ],
      "text/plain": [
       "<IPython.core.display.Image object>"
      ]
     },
     "metadata": {},
     "output_type": "display_data"
    },
    {
     "data": {
      "text/html": [
       "<img src=\"https://mars.nasa.gov/msl-raw-images/proj/msl/redops/ods/surface/sol/03621/opgs/edr/ncam/NRB_718949869EDR_S0971734NCAM00594M_.JPG\" width=\"200\"/>"
      ],
      "text/plain": [
       "<IPython.core.display.Image object>"
      ]
     },
     "metadata": {},
     "output_type": "display_data"
    },
    {
     "data": {
      "text/html": [
       "<img src=\"https://mars.nasa.gov/msl-raw-images/proj/msl/redops/ods/surface/sol/03621/opgs/edr/ncam/NRB_718949856EDR_S0971734NCAM00594M_.JPG\" width=\"200\"/>"
      ],
      "text/plain": [
       "<IPython.core.display.Image object>"
      ]
     },
     "metadata": {},
     "output_type": "display_data"
    }
   ],
   "source": [
    "for photo in photos:\n",
    "    src = photo['img_src']\n",
    "    display(Image(url=src, width=200))"
   ]
  },
  {
   "cell_type": "markdown",
   "metadata": {},
   "source": [
    "### Practice\n",
    "\n",
    "Try grabbing photos from another NASA endpoint, or find a public API of your own!\n",
    "\n",
    "https://api.nasa.gov/"
   ]
  },
  {
   "cell_type": "code",
   "execution_count": null,
   "metadata": {},
   "outputs": [],
   "source": []
  }
 ],
 "metadata": {
  "interpreter": {
   "hash": "40d3a090f54c6569ab1632332b64b2c03c39dcf918b08424e98f38b5ae0af88f"
  },
  "kernelspec": {
   "display_name": "Python 3.8.3",
   "language": "python",
   "name": "python3"
  },
  "language_info": {
   "codemirror_mode": {
    "name": "ipython",
    "version": 3
   },
   "file_extension": ".py",
   "mimetype": "text/x-python",
   "name": "python",
   "nbconvert_exporter": "python",
   "pygments_lexer": "ipython3",
   "version": "3.8.3"
  },
  "orig_nbformat": 4
 },
 "nbformat": 4,
 "nbformat_minor": 2
}
